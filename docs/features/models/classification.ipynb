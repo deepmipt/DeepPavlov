{
 "cells": [
  {
   "cell_type": "markdown",
   "metadata": {
    "id": "wA2NayPu9l_r"
   },
   "source": [
    "#### Classification"
   ]
  },
  {
   "cell_type": "markdown",
   "metadata": {
    "id": "ZMSY8bu6piql"
   },
   "source": [
    "[![Open In Colab](https://colab.research.google.com/assets/colab-badge.svg)](https://colab.research.google.com/github/deeppavlov/DeepPavlov/blob/master/docs/features/models/classification.ipynb)"
   ]
  },
  {
   "cell_type": "markdown",
   "metadata": {},
   "source": [
    "[![Medium](https://img.shields.io/badge/Medium-12100E?style=for-the-badge&logo=medium&logoColor=white)](https://medium.com/deeppavlov/text-classification-using-deeppavlov-library-with-pytorch-and-transformers-f14db5528821)"
   ]
  },
  {
   "cell_type": "markdown",
   "metadata": {
    "id": "UkOFKCKJ9l_x"
   },
   "source": [
    "# Table of contents \n",
    "\n",
    "1. [Introduction to the task](#1.-Introduction-to-the-task)\n",
    "2. [Get started with the model](#2.-Get-started-with-the-model)\n",
    "3. [Use the model for prediction](#3.-Use-the-model-for-prediction)\n",
    "\n",
    "    3.1. [Predict using Python](#3.1-Predict-using-Python)\n",
    "\n",
    "    3.2. [Predict using CLI](#3.2-Predict-using-CLI)\n",
    "4. [Evaluation](#4.-Evaluation)\n",
    "    \n",
    "    4.1. [from Python](#4.1-Evaluate-from-Python)\n",
    "    \n",
    "    4.2. [from CLI](#4.2-Evaluate-from-CLI)\n",
    "5. [Train the model on your data](#5.-Train-the-model-on-your-data)\n",
    "   \n",
    "    5.1. [from Python](#5.1-Train-your-model-from-Python)\n",
    "   \n",
    "    5.2. [from CLI](#5.2-Train-your-model-from-CLI)\n",
    "6. [Models list](#6.-Models-list)"
   ]
  },
  {
   "cell_type": "markdown",
   "metadata": {
    "id": "hkYJ7Dqqpiqn"
   },
   "source": [
    "# 1. Introduction to the task"
   ]
  },
  {
   "cell_type": "markdown",
   "metadata": {
    "id": "TN1HfQmEpiqo"
   },
   "source": [
    "This section describes a family of BERT-based models that solve a variety of different classification tasks."
   ]
  },
  {
   "cell_type": "markdown",
   "metadata": {
    "id": "sp_OrNbhpiqo"
   },
   "source": [
    "**Insults detection** is a binary classification task of identying wether a given sequence is an insult of another participant of communication.\n",
    "\n",
    "**Sentiment analysis** is a task of classifying the polarity of the the given sequence. The number of classes may vary depending on the data: positive/negative binary classification, multiclass classification with a neutral class added or with a number of different emotions.\n",
    "\n",
    "The models trained for the **paraphrase detection** task identify whether two sentences expressed with different words convey the same meaning.\n",
    "\n",
    "**Topic classification** refers to the task of classifying an utterance by the topic which belongs to the conversational domain."
   ]
  },
  {
   "cell_type": "markdown",
   "metadata": {
    "id": "K-V3g2kipiqq"
   },
   "source": [
    "# 2. Get started with the model"
   ]
  },
  {
   "cell_type": "markdown",
   "metadata": {
    "id": "ygOmNC9R9l_y"
   },
   "source": [
    "First make sure you have the DeepPavlov Library installed.\n",
    "[More info about the first installation.](http://docs.deeppavlov.ai/en/master/intro/installation.html)"
   ]
  },
  {
   "cell_type": "code",
   "execution_count": null,
   "metadata": {
    "colab": {
     "base_uri": "https://localhost:8080/"
    },
    "id": "o-GoKStT9l_z",
    "outputId": "2d62c716-dea1-49f0-91b7-a94fd2231b91"
   },
   "outputs": [],
   "source": [
    "!pip install --q deeppavlov"
   ]
  },
  {
   "cell_type": "markdown",
   "metadata": {
    "id": "o4BNGwVEpiqx"
   },
   "source": [
    "Then make sure that all the required packages for the model are installed."
   ]
  },
  {
   "cell_type": "code",
   "execution_count": null,
   "metadata": {
    "colab": {
     "base_uri": "https://localhost:8080/"
    },
    "id": "uKiSHQZCpiqy",
    "outputId": "a0ef1c80-8537-4440-b5d8-7a960ea7866c"
   },
   "outputs": [],
   "source": [
    "!python -m deeppavlov install insults_kaggle_bert"
   ]
  },
  {
   "cell_type": "markdown",
   "metadata": {
    "id": "a-DZVTP_piqy"
   },
   "source": [
    "`insults_kaggle_bert` is the name of the model's *config_file*. [What is a Config File?](http://docs.deeppavlov.ai/en/master/intro/configuration.html) \n",
    "\n",
    "Configuration file defines the model and describes its hyperparameters. To use another model, change the name of the *config_file* here and further.\n",
    "The full list of NER models with their config names can be found in the [table](#6.-Models-list)."
   ]
  },
  {
   "cell_type": "markdown",
   "metadata": {
    "id": "PEYknuKK9l_y"
   },
   "source": [
    "\n",
    "# 3. Use the model for prediction"
   ]
  },
  {
   "cell_type": "markdown",
   "metadata": {
    "id": "-j3tJy1c9l_1"
   },
   "source": [
    "## 3.1 Predict using Python"
   ]
  },
  {
   "cell_type": "markdown",
   "metadata": {
    "id": "cLnbUke-9l_3"
   },
   "source": [
    "After [model installation](#2.-Get-started-with-the-model) build it from the config and use it for prediction."
   ]
  },
  {
   "cell_type": "code",
   "execution_count": null,
   "metadata": {
    "colab": {
     "base_uri": "https://localhost:8080/",
     "height": 1000
    },
    "id": "fnHw4a6C9l_4",
    "outputId": "258d5da3-e7a5-4cb4-a5e1-70af3f726beb"
   },
   "outputs": [],
   "source": [
    "from deeppavlov import build_model\n",
    "\n",
    "model = build_model('insults_kaggle_bert', download=True)"
   ]
  },
  {
   "cell_type": "markdown",
   "metadata": {},
   "source": [
    "**Input format**: List[sentences]\n",
    "\n",
    "**Output format**: List[labels]"
   ]
  },
  {
   "cell_type": "code",
   "execution_count": 4,
   "metadata": {
    "colab": {
     "base_uri": "https://localhost:8080/"
    },
    "id": "QFXXQf3Q9l_6",
    "outputId": "fa0c3741-d08c-4b92-d040-11fb8e779c53"
   },
   "outputs": [
    {
     "data": {
      "text/plain": [
       "['Insult', 'Not Insult']"
      ]
     },
     "execution_count": 4,
     "metadata": {},
     "output_type": "execute_result"
    }
   ],
   "source": [
    "model(['You are kind of stupid', 'You are a wonderful person!'])"
   ]
  },
  {
   "cell_type": "markdown",
   "metadata": {
    "id": "RLeAxnlu9l_7"
   },
   "source": [
    "## 3.2 Predict using CLI"
   ]
  },
  {
   "cell_type": "markdown",
   "metadata": {
    "id": "4gdBi_otpiq3"
   },
   "source": [
    "You can also get predictions in an interactive mode through CLI (Command Line Interface)."
   ]
  },
  {
   "cell_type": "code",
   "execution_count": null,
   "metadata": {
    "id": "wKNoHlIVpiq3"
   },
   "outputs": [],
   "source": [
    "!python deeppavlov interact insults_kaggle_bert -d"
   ]
  },
  {
   "cell_type": "markdown",
   "metadata": {
    "id": "4CvMnvm3piq4"
   },
   "source": [
    "`-d` is an optional download key (alternative to `download=True` in Python code). The key `-d` is used to download the pre-trained model along with embeddings and all other files needed to run the model. "
   ]
  },
  {
   "cell_type": "markdown",
   "metadata": {
    "id": "ir-RPfUrpiq4"
   },
   "source": [
    "Or make predictions for samples from *stdin*."
   ]
  },
  {
   "cell_type": "code",
   "execution_count": null,
   "metadata": {
    "id": "I8BctJTmpiq4"
   },
   "outputs": [],
   "source": [
    "!python deeppavlov predict insults_kaggle_bert -f <file-name>"
   ]
  },
  {
   "cell_type": "markdown",
   "metadata": {
    "id": "HHiULaejpiq5"
   },
   "source": [
    "# 4. Evaluation"
   ]
  },
  {
   "cell_type": "markdown",
   "metadata": {
    "id": "xKizEI1-8HpL"
   },
   "source": [
    "## 4.1 Evaluate from Python"
   ]
  },
  {
   "cell_type": "code",
   "execution_count": null,
   "metadata": {
    "id": "vcOy_x8S8HpL"
   },
   "outputs": [],
   "source": [
    "from deeppavlov import evaluate_model\n",
    "\n",
    "model = evaluate_model('insults_kaggle_bert', download=True)"
   ]
  },
  {
   "cell_type": "markdown",
   "metadata": {
    "id": "JoeJFY7Q8HpM"
   },
   "source": [
    "## 4.2 Evaluate from CLI"
   ]
  },
  {
   "cell_type": "code",
   "execution_count": null,
   "metadata": {
    "id": "NfYruNkT8HpM"
   },
   "outputs": [],
   "source": [
    "!python -m deeppavlov evaluate insults_kaggle_bert -d"
   ]
  },
  {
   "cell_type": "markdown",
   "metadata": {
    "id": "pxH7jE7wpiq7"
   },
   "source": [
    "# 5. Train the model on your data"
   ]
  },
  {
   "cell_type": "markdown",
   "metadata": {
    "id": "Xo9slD6v9l_7"
   },
   "source": [
    "\n",
    "## 5.1 Train your model from Python"
   ]
  },
  {
   "cell_type": "markdown",
   "metadata": {
    "id": "4HVc5W73piq8"
   },
   "source": [
    "### Provide your data path"
   ]
  },
  {
   "cell_type": "markdown",
   "metadata": {
    "id": "6T4aceh89l_8"
   },
   "source": [
    "To train the model on your data, you need to change the path to the training data in the *config_file*. "
   ]
  },
  {
   "cell_type": "markdown",
   "metadata": {
    "id": "5BC6SQW-9l_8"
   },
   "source": [
    "Parse the *config_file* and change the path to your data from Python."
   ]
  },
  {
   "cell_type": "code",
   "execution_count": 6,
   "metadata": {
    "colab": {
     "base_uri": "https://localhost:8080/"
    },
    "id": "WcAH6pn79l_8",
    "outputId": "fff2fecb-4dba-4d56-d674-446664a7b1f1"
   },
   "outputs": [
    {
     "name": "stdout",
     "output_type": "stream",
     "text": [
      "~/.deeppavlov/downloads/insults_data\n"
     ]
    }
   ],
   "source": [
    "from deeppavlov import train_model\n",
    "from deeppavlov.core.commands.utils import parse_config\n",
    "\n",
    "model_config = parse_config('insults_kaggle_bert')\n",
    "\n",
    "# dataset that the model was trained on\n",
    "print(model_config['dataset_reader']['data_path'])"
   ]
  },
  {
   "cell_type": "markdown",
   "metadata": {
    "id": "MCK5fbHM9l_9"
   },
   "source": [
    "Provide a *data_path* to your own dataset. You can also change any of the hyperparameters of the model."
   ]
  },
  {
   "cell_type": "code",
   "execution_count": null,
   "metadata": {
    "id": "AST4X2-Npiq9"
   },
   "outputs": [],
   "source": [
    "# download and unzip a new example dataset\n",
    "!wget http://files.deeppavlov.ai/datasets/insults_data.tar.gz\n",
    "!tar -xzvf \"insults_data.tar.gz\""
   ]
  },
  {
   "cell_type": "code",
   "execution_count": null,
   "metadata": {
    "id": "QkqD3RJi9l_-"
   },
   "outputs": [],
   "source": [
    "# provide a path to the directory with your train, valid and test files\n",
    "model_config['dataset_reader']['data_path'] = \"./contents/\""
   ]
  },
  {
   "cell_type": "markdown",
   "metadata": {
    "id": "pK7yYFFe9l__"
   },
   "source": [
    "\n",
    "### Train dataset format"
   ]
  },
  {
   "cell_type": "markdown",
   "metadata": {
    "id": "Xmwcjgld9mAA"
   },
   "source": [
    "\n",
    "### Train the model using new config"
   ]
  },
  {
   "cell_type": "code",
   "execution_count": null,
   "metadata": {
    "id": "_ETDV4J99mAA"
   },
   "outputs": [],
   "source": [
    "model = train_model(model_config)"
   ]
  },
  {
   "cell_type": "markdown",
   "metadata": {
    "id": "XUIG-3q-BqeS"
   },
   "source": [
    "Use your model for prediction."
   ]
  },
  {
   "cell_type": "code",
   "execution_count": 5,
   "metadata": {
    "colab": {
     "base_uri": "https://localhost:8080/"
    },
    "id": "nDTk4ascBpuI",
    "outputId": "09960dd8-fdd6-4726-ded3-ab484a957e55"
   },
   "outputs": [
    {
     "data": {
      "text/plain": [
       "['Insult', 'Not Insult']"
      ]
     },
     "execution_count": 5,
     "metadata": {},
     "output_type": "execute_result"
    }
   ],
   "source": [
    "model(['You are kind of stupid', 'You are a wonderful person!'])"
   ]
  },
  {
   "cell_type": "markdown",
   "metadata": {
    "id": "BKoWBEHgC7XM"
   },
   "source": [
    "## 5.2 Train your model from CLI"
   ]
  },
  {
   "cell_type": "markdown",
   "metadata": {
    "id": "72Ll9CVM8KSb"
   },
   "source": [
    "To train the model on your data, create a copy of a config file and change the *data_path* variable in it. After that, train the model using your new *config_file*. You can also change any of the hyperparameters of the model."
   ]
  },
  {
   "cell_type": "code",
   "execution_count": null,
   "metadata": {
    "id": "E-Zp3SXvDS6_"
   },
   "outputs": [],
   "source": [
    "!python -m deeppavlov train model_config.json"
   ]
  },
  {
   "cell_type": "markdown",
   "metadata": {
    "id": "oAuHy4efpirA"
   },
   "source": [
    "# 6. Models list"
   ]
  },
  {
   "cell_type": "markdown",
   "metadata": {
    "id": "IA75g-cTpirB"
   },
   "source": [
    "The table presents a list of all of the classification models available in DeepPavlov Library."
   ]
  },
  {
   "cell_type": "markdown",
   "metadata": {
    "id": "NOvddorSpirB"
   },
   "source": [
    "| Config name  | Language | Task | Dataset | Model Size | Metric | Score |\n",
    "| :--- | --- | --- | --- | --- | --- | ---: |\n",
    "| [insults_kaggle_bert](https://github.com/deeppavlov/DeepPavlov/blob/master/deeppavlov/configs/classifiers/insults_kaggle_bert.json) | En | Insults | [Insults](https://www.kaggle.com/c/detecting-insults-in-social-commentary) | 1.1 GB | ROC-AUC | 0.8770 |\n",
    "| [paraphraser_rubert](https://github.com/deeppavlov/DeepPavlov/blob/master/deeppavlov/configs/classifiers/paraphraser_rubert.json) | Ru | Paraphrase | [Paraphrase Corpus](http://paraphraser.ru/download/) | 2.0 GB | F1 | 0.8738 |\n",
    "| [paraphraser_convers_distilrubert_2L](https://github.com/deeppavlov/DeepPavlov/blob/master/deeppavlov/configs/classifiers/paraphraser_convers_distilrubert_2L.json) | Ru | Paraphrase | [Paraphrase Corpus](http://paraphraser.ru/download/) | 1.2 GB | F1 | 0.7396 |\n",
    "| [paraphraser_convers_distilrubert_6L](https://github.com/deeppavlov/DeepPavlov/blob/master/deeppavlov/configs/classifiers/paraphraser_convers_distilrubert_6L.json) | Ru | Paraphrase | [Paraphrase Corpus](http://paraphraser.ru/download/) | 1.6 GB | F1 | 0.8354 |\n",
    "| [sentiment_sst_conv_bert](https://github.com/deeppavlov/DeepPavlov/blob/master/deeppavlov/configs/classifiers/sentiment_sst_conv_bert.json) | En | Sentiment | [SST](https://paperswithcode.com/dataset/sst) | 1.1 GB | Accuracy | 0.6626 |\n",
    "| [sentiment_twitter](https://github.com/deeppavlov/DeepPavlov/blob/master/deeppavlov/configs/classifiers/sentiment_twitter.json) | Ru | Sentiment | [Twitter Mokoron](http://study.mokoron.com/) | 6.2 GB | F1-macro | 0.9961 |\n",
    "| [rusentiment_bert](https://github.com/deeppavlov/DeepPavlov/blob/master/deeppavlov/configs/classifiers/rusentiment_bert.json) | Ru | Sentiment | [RuSentiment](https://text-machine.cs.uml.edu/projects/rusentiment/) | 1.3 GB | F1-weighted | 0.7005 |\n",
    "| [rusentiment_convers_bert](https://github.com/deeppavlov/DeepPavlov/blob/master/deeppavlov/configs/classifiers/rusentiment_convers_bert.json) | Ru | Sentiment | [RuSentiment](https://text-machine.cs.uml.edu/projects/rusentiment/) | 1.5 GB | F1-weighted | 0.7724  |\n",
    "| [topics_distilbert_base_uncased](https://github.com/deeppavlov/DeepPavlov/blob/master/deeppavlov/configs/classifiers/topics_distilbert_base_uncased.json) | En | Topics | [DeepPavlov Topics](https://deeppavlov.ai/datasets/topics) | 6.2 GB | F1-macro | 0.9961 |\n"
   ]
  }
 ],
 "metadata": {
    "accelerator": "GPU"
   },
   "nbformat": 4,
   "nbformat_minor": 4
}
