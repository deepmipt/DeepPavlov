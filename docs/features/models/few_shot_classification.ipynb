{
 "cells": [
  {
   "attachments": {},
   "cell_type": "markdown",
   "metadata": {},
   "source": [
    "#### Few-shot Text Classification\n",
    "\n",
    "# Table of contents \n",
    "\n",
    "1. [Introduction to the task](#1.-Introduction-to-the-task)\n",
    "\n",
    "2. [Get started with the model](#2.-Get-started-with-the-model)\n",
    "\n",
    "3. [Models list](#3.-Models-list)\n",
    "\n",
    "4. [Use the model for prediction](#4.-Use-the-model-for-prediction)\n",
    "\n",
    "    4.1 [Dataset format](#4.1-Dataset-format)\n",
    "\n",
    "    4.2. [Predict using Python](#4.2-Predict-using-Python)\n",
    "    \n",
    "    4.3. [Predict using CLI](#4.3-Predict-using-CLI)\n",
    "\n",
    "5. [Customize the model](#5.-Customize-the-model)"
   ]
  },
  {
   "attachments": {},
   "cell_type": "markdown",
   "metadata": {},
   "source": [
    "# 1. Introduction to the task\n",
    "\n",
    "__Text classification__ is a task of identifying one of the pre-defined label given an utterance, where label is one of N classes or \"OOS\" (out-of-scope examples - utterances that do not belong to any of the predefined classes). We consider few-shot setting, where only few examples (5 or 10) per intent class are given as a training set.\n",
    "\n",
    "\n",
    "# 2. Get started with the model\n",
    "\n",
    "First make sure you have the DeepPavlov Library installed.\n",
    "[More info about the first installation.](http://docs.deeppavlov.ai/en/master/intro/installation.html)"
   ]
  },
  {
   "cell_type": "code",
   "execution_count": null,
   "metadata": {},
   "outputs": [],
   "source": [
    "!pip install -q deeppavlov"
   ]
  },
  {
   "attachments": {},
   "cell_type": "markdown",
   "metadata": {},
   "source": [
    "Then make sure that all the required packages are installed."
   ]
  },
  {
   "cell_type": "code",
   "execution_count": null,
   "metadata": {},
   "outputs": [],
   "source": [
    "!python -m deeppavlov install dnnc_infer"
   ]
  },
  {
   "attachments": {},
   "cell_type": "markdown",
   "metadata": {},
   "source": [
    "`dnnc_infer` is the name of the model's *config_file*. [What is a Config File?](http://docs.deeppavlov.ai/en/master/intro/configuration.html) \n",
    "\n",
    "Configuration file defines the model and describes its hyperparameters. To use another model, change the name of the *config_file* here and further.\n",
    "Some of few-shot classification models with their config names can be found in the [table](#3.-Models-list)."
   ]
  },
  {
   "attachments": {},
   "cell_type": "markdown",
   "metadata": {},
   "source": [
    "# 3. Models list\n",
    "\n",
    "At the moment, only `dnnc_infer` config support out-of-scope detection.\n",
    "\n",
    "| Config name  | Dataset | Shot | Model Size | In-domain accuracy | Out-of-scope recall | Out-of-scope precision |\n",
    "| :--- | --- | --- | --- | --- |  --- | ---: |\n",
    "| dnnc_infer| [CLINC150-Banking-Domain](https://paperswithcode.com/paper/an-evaluation-dataset-for-intent)  | 5 | 1.4 GB | 84.1±1.9 | 93.2±0.8 | 97.8±0.3 |\n",
    "| dnnc_infer| [CLINC150](https://paperswithcode.com/paper/an-evaluation-dataset-for-intent)  | 5 | 1.4 GB | 59.4±1.4 | 87.9±1.2 | 40.3±0.7 |\n",
    "| dnnc_infer| [BANKING77-OOS](https://paperswithcode.com/paper/are-pretrained-transformers-robust-in-intent)  | 5 | 1.4 GB | 51.4±2.1 | 93.7±0.7 | 82.7±1.4 |\n",
    "| fasttext_logreg*| [CLINC150-Banking-Domain](https://paperswithcode.com/paper/an-evaluation-dataset-for-intent)  | 5 | 37 KB |24.8±2.2 | 98.2±0.4 | 74.8±0.6 |\n",
    "| fasttext_logreg*| [CLINC150](https://paperswithcode.com/paper/an-evaluation-dataset-for-intent)  | 5 | 37 KB | 13.4±0.5 | 98.6±0.2 | 20.5±0.1 |\n",
    "| fasttext_logreg*| [BANKING77-OOS](https://paperswithcode.com/paper/are-pretrained-transformers-robust-in-intent)  | 5 | 37 KB |10.7±0.8 | 99.0±0.3 | 36.4±0.2 |\n",
    "\n",
    "\n",
    "With zero threshold we can get a classification accuracy without OOS detection:\n",
    "\n",
    "| Config name  | Dataset | Shot | Model Size | Accuracy |\n",
    "| :--- | --- | --- | --- | ---: |\n",
    "| dnnc_infer| [CLINC150-Banking-Domain](https://paperswithcode.com/paper/an-evaluation-dataset-for-intent)  | 5 | 1.4 GB | 89.6 |\n",
    "| dnnc_infer| [CLINC150](https://paperswithcode.com/paper/an-evaluation-dataset-for-intent)  | 5 | 1.4 GB | 79.6 |\n",
    "| dnnc_infer| [BANKING77-OOS](https://paperswithcode.com/paper/are-pretrained-transformers-robust-in-intent)  | 5 | 1.4 GB | 55.1 |\n",
    "| fasttext_logreg*| [CLINC150-Banking-Domain](https://paperswithcode.com/paper/an-evaluation-dataset-for-intent)  | 5 | 37 KB | 86.3 |\n",
    "| fasttext_logreg*| [CLINC150](https://paperswithcode.com/paper/an-evaluation-dataset-for-intent)  | 5 | 37 KB | 73.6\n",
    "| fasttext_logreg*| [BANKING77-OOS](https://paperswithcode.com/paper/are-pretrained-transformers-robust-in-intent)  | 5 | 37 KB | 51.6 |\n",
    "\n",
    "\\* \\- config file was modified to predict OOS examples\n",
    "\n",
    "\n",
    "# 4. Use the model for prediction\n",
    "\n",
    "Base model `dnnc_infer` was already pre-trained to recognize simmilar utterances, so you can use off-the-shelf model to make predictions and evalutation. No additional training needed.\n",
    "\n",
    "## 4.1 Dataset format\n",
    "\n",
    "DNNC model compares input text to every example in dataset to determine, which class the input example belongs to. The dataset based on which classification is performed has the following format:\n",
    "\n",
    "```\n",
    "[\n",
    "    [\"text_1\",  \"label_1\"],\n",
    "    [\"text_2\",  \"label_2\"],\n",
    "             ...\n",
    "    [\"text_n\",  \"label_n\"]\n",
    "]\n",
    "```\n",
    "\n",
    "## 4.2 Predict using Python\n",
    "\n",
    "After [installing](#4.-Get-started-with-the-model) the model, build it from the config and predict."
   ]
  },
  {
   "cell_type": "code",
   "execution_count": 1,
   "metadata": {},
   "outputs": [
    {
     "ename": "KeyboardInterrupt",
     "evalue": "",
     "output_type": "error",
     "traceback": [
      "\u001b[0;31m---------------------------------------------------------------------------\u001b[0m",
      "\u001b[0;31mKeyboardInterrupt\u001b[0m                         Traceback (most recent call last)",
      "\u001b[1;32m/home/savkin/few_shot/DNNC/DeepPavlov/few_shot_classification.ipynb Cell 8\u001b[0m in \u001b[0;36m6\n\u001b[1;32m      <a href='vscode-notebook-cell://ssh-remote%2Bdgx1/home/savkin/few_shot/DNNC/DeepPavlov/few_shot_classification.ipynb#X10sdnNjb2RlLXJlbW90ZQ%3D%3D?line=2'>3</a>\u001b[0m \u001b[39mimport\u001b[39;00m \u001b[39mos\u001b[39;00m\n\u001b[1;32m      <a href='vscode-notebook-cell://ssh-remote%2Bdgx1/home/savkin/few_shot/DNNC/DeepPavlov/few_shot_classification.ipynb#X10sdnNjb2RlLXJlbW90ZQ%3D%3D?line=3'>4</a>\u001b[0m os\u001b[39m.\u001b[39menviron[\u001b[39m\"\u001b[39m\u001b[39mCUDA_VISIBLE_DEVICES\u001b[39m\u001b[39m\"\u001b[39m]\u001b[39m=\u001b[39m\u001b[39m\"\u001b[39m\u001b[39m1\u001b[39m\u001b[39m\"\u001b[39m\n\u001b[0;32m----> <a href='vscode-notebook-cell://ssh-remote%2Bdgx1/home/savkin/few_shot/DNNC/DeepPavlov/few_shot_classification.ipynb#X10sdnNjb2RlLXJlbW90ZQ%3D%3D?line=5'>6</a>\u001b[0m model \u001b[39m=\u001b[39m build_model(\u001b[39m\"\u001b[39m\u001b[39mdnnc_infer\u001b[39m\u001b[39m\"\u001b[39m, download\u001b[39m=\u001b[39m\u001b[39mTrue\u001b[39;00m)\n",
      "File \u001b[0;32m/cephfs/home/savkin/few_shot/DNNC/DeepPavlov/deeppavlov/core/commands/infer.py:39\u001b[0m, in \u001b[0;36mbuild_model\u001b[0;34m(config, mode, load_trained, install, download)\u001b[0m\n\u001b[1;32m     37\u001b[0m     install_from_config(config)\n\u001b[1;32m     38\u001b[0m \u001b[39mif\u001b[39;00m download:\n\u001b[0;32m---> 39\u001b[0m     deep_download(config)\n\u001b[1;32m     41\u001b[0m import_packages(config\u001b[39m.\u001b[39mget(\u001b[39m'\u001b[39m\u001b[39mmetadata\u001b[39m\u001b[39m'\u001b[39m, {})\u001b[39m.\u001b[39mget(\u001b[39m'\u001b[39m\u001b[39mimports\u001b[39m\u001b[39m'\u001b[39m, []))\n\u001b[1;32m     43\u001b[0m model_config \u001b[39m=\u001b[39m config[\u001b[39m'\u001b[39m\u001b[39mchainer\u001b[39m\u001b[39m'\u001b[39m]\n",
      "File \u001b[0;32m/cephfs/home/savkin/few_shot/DNNC/DeepPavlov/deeppavlov/download.py:174\u001b[0m, in \u001b[0;36mdeep_download\u001b[0;34m(config)\u001b[0m\n\u001b[1;32m    172\u001b[0m \u001b[39mif\u001b[39;00m \u001b[39mnot\u001b[39;00m url\u001b[39m.\u001b[39mstartswith(\u001b[39m'\u001b[39m\u001b[39ms3://\u001b[39m\u001b[39m'\u001b[39m) \u001b[39mand\u001b[39;00m \u001b[39mnot\u001b[39;00m \u001b[39misinstance\u001b[39m(config, \u001b[39mdict\u001b[39m):\n\u001b[1;32m    173\u001b[0m     url \u001b[39m=\u001b[39m set_query_parameter(url, \u001b[39m'\u001b[39m\u001b[39mconfig\u001b[39m\u001b[39m'\u001b[39m, Path(config)\u001b[39m.\u001b[39mstem)\n\u001b[0;32m--> 174\u001b[0m download_resource(url, dest_paths, headers)\n",
      "File \u001b[0;32m/cephfs/home/savkin/few_shot/DNNC/DeepPavlov/deeppavlov/download.py:137\u001b[0m, in \u001b[0;36mdownload_resource\u001b[0;34m(url, dest_paths, headers)\u001b[0m\n\u001b[1;32m    134\u001b[0m lockfile \u001b[39m=\u001b[39m download_path \u001b[39m/\u001b[39m \u001b[39mf\u001b[39m\u001b[39m'\u001b[39m\u001b[39m.\u001b[39m\u001b[39m{\u001b[39;00mfile_name\u001b[39m}\u001b[39;00m\u001b[39m.lock\u001b[39m\u001b[39m'\u001b[39m\n\u001b[1;32m    136\u001b[0m \u001b[39mwith\u001b[39;00m FileLock(lockfile)\u001b[39m.\u001b[39macquire(poll_intervall\u001b[39m=\u001b[39m\u001b[39m10\u001b[39m):\n\u001b[0;32m--> 137\u001b[0m     \u001b[39mif\u001b[39;00m check_md5(url, dest_paths, headers):\n\u001b[1;32m    138\u001b[0m         log\u001b[39m.\u001b[39minfo(\u001b[39mf\u001b[39m\u001b[39m'\u001b[39m\u001b[39mSkipped \u001b[39m\u001b[39m{\u001b[39;00murl\u001b[39m}\u001b[39;00m\u001b[39m download because of matching hashes\u001b[39m\u001b[39m'\u001b[39m)\n\u001b[1;32m    139\u001b[0m     \u001b[39melif\u001b[39;00m \u001b[39many\u001b[39m(ext \u001b[39min\u001b[39;00m url \u001b[39mfor\u001b[39;00m ext \u001b[39min\u001b[39;00m (\u001b[39m'\u001b[39m\u001b[39m.tar.gz\u001b[39m\u001b[39m'\u001b[39m, \u001b[39m'\u001b[39m\u001b[39m.gz\u001b[39m\u001b[39m'\u001b[39m, \u001b[39m'\u001b[39m\u001b[39m.zip\u001b[39m\u001b[39m'\u001b[39m)):\n",
      "File \u001b[0;32m/cephfs/home/savkin/few_shot/DNNC/DeepPavlov/deeppavlov/download.py:114\u001b[0m, in \u001b[0;36mcheck_md5\u001b[0;34m(url, dest_paths, headers)\u001b[0m\n\u001b[1;32m    112\u001b[0m not_done \u001b[39m=\u001b[39m []\n\u001b[1;32m    113\u001b[0m \u001b[39mfor\u001b[39;00m base_path \u001b[39min\u001b[39;00m dest_paths:\n\u001b[0;32m--> 114\u001b[0m     \u001b[39mif\u001b[39;00m \u001b[39mall\u001b[39;49m(file_md5(base_path \u001b[39m/\u001b[39;49m p) \u001b[39m==\u001b[39;49m _md5 \u001b[39mfor\u001b[39;49;00m p, _md5 \u001b[39min\u001b[39;49;00m expected\u001b[39m.\u001b[39;49mitems()):\n\u001b[1;32m    115\u001b[0m         done \u001b[39m=\u001b[39m base_path\n\u001b[1;32m    116\u001b[0m     \u001b[39melse\u001b[39;00m:\n",
      "File \u001b[0;32m/cephfs/home/savkin/few_shot/DNNC/DeepPavlov/deeppavlov/download.py:114\u001b[0m, in \u001b[0;36m<genexpr>\u001b[0;34m(.0)\u001b[0m\n\u001b[1;32m    112\u001b[0m not_done \u001b[39m=\u001b[39m []\n\u001b[1;32m    113\u001b[0m \u001b[39mfor\u001b[39;00m base_path \u001b[39min\u001b[39;00m dest_paths:\n\u001b[0;32m--> 114\u001b[0m     \u001b[39mif\u001b[39;00m \u001b[39mall\u001b[39m(file_md5(base_path \u001b[39m/\u001b[39;49m p) \u001b[39m==\u001b[39m _md5 \u001b[39mfor\u001b[39;00m p, _md5 \u001b[39min\u001b[39;00m expected\u001b[39m.\u001b[39mitems()):\n\u001b[1;32m    115\u001b[0m         done \u001b[39m=\u001b[39m base_path\n\u001b[1;32m    116\u001b[0m     \u001b[39melse\u001b[39;00m:\n",
      "File \u001b[0;32m/cephfs/home/savkin/few_shot/DNNC/DeepPavlov/deeppavlov/core/data/utils.py:338\u001b[0m, in \u001b[0;36mfile_md5\u001b[0;34m(fpath, chunk_size)\u001b[0m\n\u001b[1;32m    336\u001b[0m \u001b[39mwith\u001b[39;00m fpath\u001b[39m.\u001b[39mopen(\u001b[39m'\u001b[39m\u001b[39mrb\u001b[39m\u001b[39m'\u001b[39m) \u001b[39mas\u001b[39;00m f:\n\u001b[1;32m    337\u001b[0m     \u001b[39mfor\u001b[39;00m chunk \u001b[39min\u001b[39;00m \u001b[39miter\u001b[39m(\u001b[39mlambda\u001b[39;00m: f\u001b[39m.\u001b[39mread(chunk_size), \u001b[39mb\u001b[39m\u001b[39m\"\u001b[39m\u001b[39m\"\u001b[39m):\n\u001b[0;32m--> 338\u001b[0m         file_hash\u001b[39m.\u001b[39;49mupdate(chunk)\n\u001b[1;32m    339\u001b[0m \u001b[39mreturn\u001b[39;00m file_hash\u001b[39m.\u001b[39mhexdigest()\n",
      "\u001b[0;31mKeyboardInterrupt\u001b[0m: "
     ]
    }
   ],
   "source": [
    "from deeppavlov import build_model\n",
    "\n",
    "import os\n",
    "os.environ[\"CUDA_VISIBLE_DEVICES\"]=\"1\"\n",
    "\n",
    "model = build_model(\"dnnc_infer\", download=True)"
   ]
  },
  {
   "attachments": {},
   "cell_type": "markdown",
   "metadata": {},
   "source": [
    "If you set `download` flag to `True`, then existing model weights will be overwritten.\n",
    "\n",
    "Setting the `install` argument to `True` is equivalent to executing the command line `install` command. If set to `True`, it will first install all the required packages.\n",
    "\n",
    "**Input**: List[texts, dataset]\n",
    "\n",
    "**Output**: List[labels]"
   ]
  },
  {
   "cell_type": "code",
   "execution_count": 2,
   "metadata": {},
   "outputs": [
    {
     "data": {
      "text/plain": [
       "['translate', 'exchange_rate', 'car_rental']"
      ]
     },
     "execution_count": 2,
     "metadata": {},
     "output_type": "execute_result"
    }
   ],
   "source": [
    "texts = [\n",
    "    \"what expression would i use to say i love you if i were an italian\",\n",
    "    \"what's the currency conversion between krones and yen\",\n",
    "    \"i'd like to reserve a high-end car\"\n",
    "]\n",
    "\n",
    "dataset = [\n",
    "    [\"please help me book a rental car for nashville\",                       \"car_rental\"],\n",
    "    [\"how can i rent a car in boston\",                                       \"car_rental\"],\n",
    "    [\"help me get a rental car for march 2 to 6th\",                          \"car_rental\"],\n",
    "    \n",
    "    [\"how many pesos can i get for one dollar\",                              \"exchange_rate\"],\n",
    "    [\"tell me the exchange rate between rubles and dollars\",                 \"exchange_rate\"],\n",
    "    [\"what is the exchange rate in pesos for 100 dollars\",                   \"exchange_rate\"],\n",
    "    \n",
    "    [\"can you tell me how to say 'i do not speak much spanish', in spanish\", \"translate\"],\n",
    "    [\"please tell me how to ask for a taxi in french\",                       \"translate\"],\n",
    "    [\"how would i say thank you if i were russian\",                          \"translate\"]\n",
    "]\n",
    "\n",
    "model(texts, dataset)"
   ]
  },
  {
   "attachments": {},
   "cell_type": "markdown",
   "metadata": {},
   "source": [
    "## 4.2 Predict using CLI\n",
    "\n",
    "You can also get predictions in an interactive mode through CLI (Сommand Line Interface)."
   ]
  },
  {
   "cell_type": "code",
   "execution_count": null,
   "metadata": {},
   "outputs": [],
   "source": [
    "!python -m deeppavlov interact dnnc_infer -d"
   ]
  },
  {
   "attachments": {},
   "cell_type": "markdown",
   "metadata": {},
   "source": [
    "`-d` is an optional download key (alternative to `download=True` in Python code). The key `-d` is used to download the pre-trained model along with all other files needed to run the model. "
   ]
  },
  {
   "attachments": {},
   "cell_type": "markdown",
   "metadata": {},
   "source": [
    "Or make predictions for samples from *stdin*."
   ]
  },
  {
   "cell_type": "code",
   "execution_count": null,
   "metadata": {},
   "outputs": [],
   "source": [
    "!python -m deeppavlov predict dnnc_infer -f <file-name>"
   ]
  },
  {
   "attachments": {},
   "cell_type": "markdown",
   "metadata": {},
   "source": [
    "# 5. Customize the model\n",
    "\n",
    "Out-of-scope (OOS) examples are determined via confidence with *confidence_threshold* parameter. For each input text, if the confidence of the model is lower than the *confidence_threshold*, then the input example is considered out-of-scop. The higher the threshold, the more often the model predicts \"oos\" class. By default it is set to 0, but you can change it to your preferences in configuration file."
   ]
  },
  {
   "cell_type": "code",
   "execution_count": 4,
   "metadata": {},
   "outputs": [
    {
     "name": "stdout",
     "output_type": "stream",
     "text": [
      "0.0\n"
     ]
    }
   ],
   "source": [
    "from deeppavlov.core.commands.utils import parse_config\n",
    "\n",
    "model_config = parse_config('dnnc_infer')\n",
    "\n",
    "print(model_config['chainer']['pipe'][-1]['confidence_threshold'])"
   ]
  }
 ],
 "metadata": {
  "kernelspec": {
   "display_name": "dnnc_cuda11_env",
   "language": "python",
   "name": "python3"
  },
  "language_info": {
   "codemirror_mode": {
    "name": "ipython",
    "version": 3
   },
   "file_extension": ".py",
   "mimetype": "text/x-python",
   "name": "python",
   "nbconvert_exporter": "python",
   "pygments_lexer": "ipython3",
   "version": "3.8.10"
  }
 },
 "nbformat": 4,
 "nbformat_minor": 2
}
