{
 "cells": [
  {
   "cell_type": "markdown",
   "metadata": {},
   "source": [
    "# Новогодний скилл для Яндекс.Алиса с помощью DeepPavlov"
   ]
  },
  {
   "cell_type": "markdown",
   "metadata": {},
   "source": [
    "Всем привет!\n",
    "Сегодня бдуем писать бот для Яндекс.Алиса с использованием библиотеки [`deeppavlov`](https://github.com/deepmipt/DeepPavlov).\n",
    "Наш бот будет уметь здороваться, прощаться и отвечать на вопросы по списку.\n",
    "Приступим!"
   ]
  },
  {
   "cell_type": "markdown",
   "metadata": {},
   "source": [
    "### Требования\n",
    "Для реализации данного проекта вам потребуется виртуальная машина с выделеным IP адрессом. Работать надо в виртуальном окружении pyhton3.6 (`source activate py36`). Библиотеку можно установить через терминал командой:\n",
    "\n",
    "`pip install deeppavlov`"
   ]
  },
  {
   "cell_type": "markdown",
   "metadata": {},
   "source": [
    "# Теория"
   ]
  },
  {
   "cell_type": "markdown",
   "metadata": {},
   "source": [
    "Две основные концепции в `deeppavlov` это `Skill` (не то же самое, что скилл для Алисы) и `Agent`."
   ]
  },
  {
   "cell_type": "markdown",
   "metadata": {},
   "source": [
    "### `Skill`\n",
    "Расмсотрим самый базовый пример `Skill`'а. На вход он принимает сообщение пользователя `utterance` и возвращает ответ `response` и `confidence` от 0 до 1 - уверенность, в том, что ответ подходит."
   ]
  },
  {
   "cell_type": "markdown",
   "metadata": {},
   "source": [
    "![title](img/skill_example.png)"
   ]
  },
  {
   "cell_type": "markdown",
   "metadata": {},
   "source": [
    "Кроме этого `Skill` на вход также принимает историю сообщений (`history`) и некое внутреннее состояние (`state`), смысл которого мы определяем сами. Внутренне состояние возвращается тем же `Skill`'ом на ряду с `responce` и `confidence`. Это сделано для реализации более сложного поведения бота, но в нашем случае эти поля пустые и никак не используются."
   ]
  },
  {
   "cell_type": "markdown",
   "metadata": {},
   "source": [
    "### `Agent`\n",
    "Теперь рассмотрим базовый пример `Agent`'а. `Agent` по сути представляет собой набор `Skill`'ов и механизм выбора наиболее подходящего из них: `skills_selector`. На вход `Agent` принимает сообщение пользователя `utterance` и передает его каждому `Skill`'у. Далее на основе выдачи всех `Skill`'ов `skills_selector` выбирает самый подходящий и возвращает пользователю его ответ. В данном примере просто выбирается `Skill`, вернувший самую большую уверенность (`confidence`)."
   ]
  },
  {
   "cell_type": "markdown",
   "metadata": {},
   "source": [
    "![title](img/agent_example.png)"
   ]
  },
  {
   "cell_type": "markdown",
   "metadata": {},
   "source": [
    "Библиотка `deeppavlov` предоставляет набор разных `Skill`'ов и `Agent`'ов. Также она предоставляет набор NLP (Natural Language Processing) инстрементов, которые дают возможность создавать свои `Skill`'ы."
   ]
  },
  {
   "cell_type": "markdown",
   "metadata": {},
   "source": [
    "# Реализация"
   ]
  },
  {
   "cell_type": "markdown",
   "metadata": {},
   "source": [
    "Сперва создадим самый простой `Skill`, который будет отвечать за приветствие - `PatternMatchingSkill`. При его создании мы задаем `patterns`. Чем больше совпадений между сообщением пользователя (`utterance`) и `patterns`, тем больше уверенность (`confidence`), которую вернет `Skill`. Ответ выбирается случайным образом из заданных нами `responces`."
   ]
  },
  {
   "cell_type": "code",
   "execution_count": 1,
   "metadata": {},
   "outputs": [],
   "source": [
    "from deeppavlov.skills.pattern_matching_skill import PatternMatchingSkill\n",
    "\n",
    "hello = PatternMatchingSkill(responses=['Привет!', 'Приветик', 'Здравствуйте', 'Привет, с наступающим Новым Годом!'],\n",
    "\tpatterns=['Привет', 'Здравствуйте', 'Добрый день'])"
   ]
  },
  {
   "cell_type": "markdown",
   "metadata": {},
   "source": [
    "Таким же образом образом обучим бота прощаться."
   ]
  },
  {
   "cell_type": "code",
   "execution_count": 2,
   "metadata": {},
   "outputs": [],
   "source": [
    "bye = PatternMatchingSkill(responses=['Пока!', 'До свидания, надеюсь смог вам помочь', 'C наступающим Новым Годом!'],\n",
    "\tpatterns=['До свидания', 'Пока', 'Спасибо за помощь'])"
   ]
  },
  {
   "cell_type": "markdown",
   "metadata": {},
   "source": [
    "Если в `PatternMatchingSkill` не указать `patterns`, то он всегда будет возвращать уверенность `0.5`. Это можно использовать для создания скилла `fallback`, который отвечает на непонятные запросы: если все созданные нами `Skill`'ы возвращают маленький `confidense` (пользователь написал что-то неожиданное или непонятное), то `Agent` выберет ответ `fallback`, как самый подходящий."
   ]
  },
  {
   "cell_type": "code",
   "execution_count": 3,
   "metadata": {},
   "outputs": [],
   "source": [
    "fallback = PatternMatchingSkill(responses=['Я не понял, но могу попробовать ответить на другой вопрос',\n",
    "\t'Я не понял, задайте другой вопрос'])"
   ]
  },
  {
   "cell_type": "markdown",
   "metadata": {},
   "source": [
    "Впереди самое интересное: научить нашего бота отвечать на вопросы. Создадим табличку `'faq.csv'` и поместим ее в папку `data`. Заполним табличку нашими вопросами и ответами и окинем ее взглядом."
   ]
  },
  {
   "cell_type": "code",
   "execution_count": 4,
   "metadata": {},
   "outputs": [
    {
     "data": {
      "text/html": [
       "<div>\n",
       "<style scoped>\n",
       "    .dataframe tbody tr th:only-of-type {\n",
       "        vertical-align: middle;\n",
       "    }\n",
       "\n",
       "    .dataframe tbody tr th {\n",
       "        vertical-align: top;\n",
       "    }\n",
       "\n",
       "    .dataframe thead th {\n",
       "        text-align: right;\n",
       "    }\n",
       "</style>\n",
       "<table border=\"1\" class=\"dataframe\">\n",
       "  <thead>\n",
       "    <tr style=\"text-align: right;\">\n",
       "      <th></th>\n",
       "      <th>Question</th>\n",
       "      <th>Answer</th>\n",
       "    </tr>\n",
       "  </thead>\n",
       "  <tbody>\n",
       "    <tr>\n",
       "      <th>0</th>\n",
       "      <td>Болит живот</td>\n",
       "      <td>Скушайте таблетку от живота</td>\n",
       "    </tr>\n",
       "    <tr>\n",
       "      <th>1</th>\n",
       "      <td>Боль в животе</td>\n",
       "      <td>Скушайте таблетку от живота</td>\n",
       "    </tr>\n",
       "    <tr>\n",
       "      <th>2</th>\n",
       "      <td>Колит желудок</td>\n",
       "      <td>Скушайте таблетку от живота</td>\n",
       "    </tr>\n",
       "    <tr>\n",
       "      <th>3</th>\n",
       "      <td>Режет желудок</td>\n",
       "      <td>Скушайте таблетку от живота</td>\n",
       "    </tr>\n",
       "    <tr>\n",
       "      <th>4</th>\n",
       "      <td>Острая боль внизу живота</td>\n",
       "      <td>Скушайте таблетку от живота</td>\n",
       "    </tr>\n",
       "    <tr>\n",
       "      <th>5</th>\n",
       "      <td>Болит голова</td>\n",
       "      <td>Скушайте таблетку от головы</td>\n",
       "    </tr>\n",
       "    <tr>\n",
       "      <th>6</th>\n",
       "      <td>Очень сильно болит голова</td>\n",
       "      <td>Скушайте таблетку от головы</td>\n",
       "    </tr>\n",
       "    <tr>\n",
       "      <th>7</th>\n",
       "      <td>Сильная головная боль</td>\n",
       "      <td>Скушайте таблетку от головы</td>\n",
       "    </tr>\n",
       "    <tr>\n",
       "      <th>8</th>\n",
       "      <td>У меня мигрень</td>\n",
       "      <td>Скушайте таблетку от головы</td>\n",
       "    </tr>\n",
       "    <tr>\n",
       "      <th>9</th>\n",
       "      <td>Хочу кушать</td>\n",
       "      <td>Ну так покушай</td>\n",
       "    </tr>\n",
       "    <tr>\n",
       "      <th>10</th>\n",
       "      <td>Я голодный</td>\n",
       "      <td>Ну так покушай</td>\n",
       "    </tr>\n",
       "    <tr>\n",
       "      <th>11</th>\n",
       "      <td>У меня страшный голод</td>\n",
       "      <td>Ну так покушай</td>\n",
       "    </tr>\n",
       "    <tr>\n",
       "      <th>12</th>\n",
       "      <td>Очень хочу есть</td>\n",
       "      <td>Ну так покушай</td>\n",
       "    </tr>\n",
       "  </tbody>\n",
       "</table>\n",
       "</div>"
      ],
      "text/plain": [
       "                     Question                       Answer\n",
       "0                 Болит живот  Скушайте таблетку от живота\n",
       "1               Боль в животе  Скушайте таблетку от живота\n",
       "2               Колит желудок  Скушайте таблетку от живота\n",
       "3               Режет желудок  Скушайте таблетку от живота\n",
       "4    Острая боль внизу живота  Скушайте таблетку от живота\n",
       "5                Болит голова  Скушайте таблетку от головы\n",
       "6   Очень сильно болит голова  Скушайте таблетку от головы\n",
       "7       Сильная головная боль  Скушайте таблетку от головы\n",
       "8              У меня мигрень  Скушайте таблетку от головы\n",
       "9                 Хочу кушать               Ну так покушай\n",
       "10                 Я голодный               Ну так покушай\n",
       "11      У меня страшный голод               Ну так покушай\n",
       "12            Очень хочу есть               Ну так покушай"
      ]
     },
     "execution_count": 4,
     "metadata": {},
     "output_type": "execute_result"
    }
   ],
   "source": [
    "import pandas as pd\n",
    "faq_table = pd.read_csv('data/faq_doctor.csv')\n",
    "faq_table"
   ]
  },
  {
   "cell_type": "markdown",
   "metadata": {},
   "source": [
    "Обратите внимание, что для одних и тех же ответов указано несколько разных вопросов. Это сделано для того, чтобы бот лучше распознавал различные формулировки. Еще один важный момент: в табличке обязательно нужно назвать стоблец с вопросами `Question`, а с ответами `Answer`, иначе алгоритм выдаст ошибку."
   ]
  },
  {
   "cell_type": "markdown",
   "metadata": {},
   "source": [
    "Еще одной важной концепцией в `deeppavlov` яляются `config`'и, которые представляют собой `.json` файлы. Они позволяют относительно кратко описывать NLP модели. В библиотеке уже есть большое количество описаных моделей, в том числе и для нашей задачи (ответ на вопрос по списку FAQ). Возьмем такую модель"
   ]
  },
  {
   "cell_type": "code",
   "execution_count": 5,
   "metadata": {},
   "outputs": [],
   "source": [
    "from deeppavlov.core.common.file import read_json\n",
    "from deeppavlov import configs\n",
    "from deeppavlov import train_model\n",
    "\n",
    "model_config = read_json(configs.faq.tfidf_autofaq)"
   ]
  },
  {
   "cell_type": "markdown",
   "metadata": {},
   "source": [
    "Исправим у нее следующие поля:\n",
    "1. `['dataset_reader']['data_url']` - путь к файлу таблицы\n",
    "2. `['dataset_reader']['x_col_name']` - имя столбика с вопросами\n",
    "3. `['dataset_reader']['y_col_name']` - имя столбика с ответами\n",
    "4. `['metadata']['variables']['ROOT_PATH']` - путь, по которому модель сохраняется после обучения\n",
    "\n",
    "и обучим."
   ]
  },
  {
   "cell_type": "code",
   "execution_count": 6,
   "metadata": {},
   "outputs": [
    {
     "name": "stderr",
     "output_type": "stream",
     "text": [
      "[nltk_data] Downloading package punkt to /Users/nv/nltk_data...\n",
      "[nltk_data]   Package punkt is already up-to-date!\n",
      "[nltk_data] Downloading package stopwords to /Users/nv/nltk_data...\n",
      "[nltk_data]   Package stopwords is already up-to-date!\n",
      "[nltk_data] Downloading package perluniprops to /Users/nv/nltk_data...\n",
      "[nltk_data]   Package perluniprops is already up-to-date!\n",
      "[nltk_data] Downloading package nonbreaking_prefixes to\n",
      "[nltk_data]     /Users/nv/nltk_data...\n",
      "[nltk_data]   Package nonbreaking_prefixes is already up-to-date!\n",
      "2018-12-17 21:19:39.270 INFO in 'pymorphy2.opencorpora_dict.wrapper'['wrapper'] at line 16: Loading dictionaries from /usr/local/miniconda3/lib/python3.6/site-packages/pymorphy2_dicts/data\n",
      "2018-12-17 21:19:39.355 INFO in 'pymorphy2.opencorpora_dict.wrapper'['wrapper'] at line 20: format: 2.4, revision: 393442, updated: 2015-01-17T16:03:56.586168\n",
      "2018-12-17 21:19:39.368 INFO in 'deeppavlov.models.sklearn.sklearn_component'['sklearn_component'] at line 201: Loading model sklearn.feature_extraction.text:TfidfVectorizer from /Users/nv/Projects/DeepPavlov/examples/tutorials/models/models/vectorizer/tfidf_vectorizer_ruwiki.pkl\n",
      "2018-12-17 21:19:39.369 INFO in 'deeppavlov.models.sklearn.sklearn_component'['sklearn_component'] at line 208: Model sklearn.feature_extraction.textTfidfVectorizer loaded  with parameters\n",
      "2018-12-17 21:19:39.370 WARNING in 'deeppavlov.models.sklearn.sklearn_component'['sklearn_component'] at line 214: Fitting of loaded model can not be continued. Model can be fitted from scratch.If one needs to continue fitting, please, look at `warm_start` parameter\n",
      "2018-12-17 21:19:39.380 INFO in 'deeppavlov.models.sklearn.sklearn_component'['sklearn_component'] at line 107: Fitting model sklearn.feature_extraction.textTfidfVectorizer\n",
      "2018-12-17 21:19:39.384 INFO in 'deeppavlov.models.sklearn.sklearn_component'['sklearn_component'] at line 239: Saving model to /Users/nv/Projects/DeepPavlov/examples/tutorials/models/models/vectorizer/tfidf_vectorizer_ruwiki.pkl\n",
      "2018-12-17 21:19:39.395 INFO in 'deeppavlov.models.classifiers.cos_sim_classifier'['cos_sim_classifier'] at line 120: Saving faq_model to /Users/nv/Projects/DeepPavlov/examples/tutorials/models/models/faq/tfidf_cos_sim_classifier.pkl\n",
      "2018-12-17 21:19:39.397 INFO in 'pymorphy2.opencorpora_dict.wrapper'['wrapper'] at line 16: Loading dictionaries from /usr/local/miniconda3/lib/python3.6/site-packages/pymorphy2_dicts/data\n",
      "2018-12-17 21:19:39.459 INFO in 'pymorphy2.opencorpora_dict.wrapper'['wrapper'] at line 20: format: 2.4, revision: 393442, updated: 2015-01-17T16:03:56.586168\n",
      "2018-12-17 21:19:39.463 INFO in 'deeppavlov.models.sklearn.sklearn_component'['sklearn_component'] at line 201: Loading model sklearn.feature_extraction.text:TfidfVectorizer from /Users/nv/Projects/DeepPavlov/examples/tutorials/models/models/vectorizer/tfidf_vectorizer_ruwiki.pkl\n",
      "2018-12-17 21:19:39.465 INFO in 'deeppavlov.models.sklearn.sklearn_component'['sklearn_component'] at line 208: Model sklearn.feature_extraction.textTfidfVectorizer loaded  with parameters\n",
      "2018-12-17 21:19:39.466 WARNING in 'deeppavlov.models.sklearn.sklearn_component'['sklearn_component'] at line 214: Fitting of loaded model can not be continued. Model can be fitted from scratch.If one needs to continue fitting, please, look at `warm_start` parameter\n",
      "2018-12-17 21:19:39.469 INFO in 'deeppavlov.models.classifiers.cos_sim_classifier'['cos_sim_classifier'] at line 125: Loading faq_model from /Users/nv/Projects/DeepPavlov/examples/tutorials/models/models/faq/tfidf_cos_sim_classifier.pkl\n"
     ]
    }
   ],
   "source": [
    "model_config['dataset_reader']['data_url'] = 'data/faq_doctor.csv'\n",
    "model_config['dataset_reader']['x_col_name'] = 'Question'\n",
    "model_config['dataset_reader']['y_col_name'] = 'Answer'\n",
    "model_config['metadata']['variables']['ROOT_PATH'] = './models/'\n",
    "faq = train_model(model_config)"
   ]
  },
  {
   "cell_type": "markdown",
   "metadata": {},
   "source": [
    "Мы уже на финишной прямой, остлалось собрать все `Skill`'ы вместе при помощи `Agent`'а."
   ]
  },
  {
   "cell_type": "code",
   "execution_count": 7,
   "metadata": {},
   "outputs": [],
   "source": [
    "from deeppavlov.agents.default_agent.default_agent import DefaultAgent\n",
    "from deeppavlov.agents.processors.highest_confidence_selector import HighestConfidenceSelector\n",
    "\n",
    "agent = DefaultAgent([hello, bye, faq, fallback], skills_selector=HighestConfidenceSelector())"
   ]
  },
  {
   "cell_type": "markdown",
   "metadata": {},
   "source": [
    "Проверим код на работоспобность. Агент может принимать на вход сразу несколько вопросов:"
   ]
  },
  {
   "cell_type": "code",
   "execution_count": 8,
   "metadata": {},
   "outputs": [
    {
     "name": "stdout",
     "output_type": "stream",
     "text": [
      "['Здравствуйте', 'Скушайте таблетку от живота', 'C наступающим Новым Годом!', 'Я не понял, но могу попробовать ответить на другой вопрос']\n"
     ]
    },
    {
     "name": "stderr",
     "output_type": "stream",
     "text": [
      "/usr/local/miniconda3/lib/python3.6/site-packages/deeppavlov/models/classifiers/cos_sim_classifier.py:81: RuntimeWarning: invalid value encountered in true_divide\n",
      "  labels_scores = labels_scores/labels_scores.sum(axis=1, keepdims=True)\n"
     ]
    }
   ],
   "source": [
    "print(agent(['Привет', 'У меня болит живот', 'Пока', 'бла бла бла']))"
   ]
  },
  {
   "cell_type": "markdown",
   "metadata": {},
   "source": [
    "Пора запускать код в бой. При помощи простой утилиты можно заставить работать нашего агента в режиме web-hook, к которому будут подключаться сервера Яндекса. Но прежде нам надо создать ssl ключ и сертификат. Для этого в терминале выполним команду, где вместо `<MACHINE_IP_ADDRESS>` надо указать внешний IP адрес вашей виртуальный машины.\n",
    "\n",
    "`openssl req -new -newkey rsa:4096 -days 365 -nodes -x509 -subj \"/CN=<MACHINE_IP_ADDRESS>\" -keyout my.key -out my.crt`"
   ]
  },
  {
   "cell_type": "code",
   "execution_count": null,
   "metadata": {},
   "outputs": [
    {
     "name": "stdout",
     "output_type": "stream",
     "text": [
      " * Serving Flask app \"utils.alice.alice\" (lazy loading)\n",
      " * Environment: production\n",
      "   WARNING: Do not use the development server in a production environment.\n",
      "   Use a production WSGI server instead.\n",
      " * Debug mode: off\n"
     ]
    },
    {
     "name": "stderr",
     "output_type": "stream",
     "text": [
      "2018-12-16 21:07:06.819 INFO in 'werkzeug'['_internal'] at line 88:  * Running on https://0.0.0.0:5000/ (Press CTRL+C to quit)\n",
      "/opt/conda/envs/py36/lib/python3.6/site-packages/deeppavlov/models/classifiers/cos_sim_classifier.py:63: RuntimeWarning: invalid value encountered in true_divide\n",
      "  cos_similarities = np.array(q_vects.dot(self.x_train_features.T).todense())/norm\n",
      "/opt/conda/envs/py36/lib/python3.6/site-packages/numpy/core/_methods.py:26: RuntimeWarning: invalid value encountered in reduce\n",
      "  return umr_maximum(a, axis, None, out, keepdims)\n",
      "2018-12-16 21:07:19.850 INFO in 'werkzeug'['_internal'] at line 88: 93.158.158.74 - - [16/Dec/2018 21:07:19] \"\u001b[37mPOST /faq HTTP/1.1\u001b[0m\" 200 -\n",
      "2018-12-16 21:07:26.578 INFO in 'werkzeug'['_internal'] at line 88: 93.158.158.74 - - [16/Dec/2018 21:07:26] \"\u001b[37mPOST /faq HTTP/1.1\u001b[0m\" 200 -\n"
     ]
    }
   ],
   "source": [
    "from utils.alice import start_agent_server\n",
    "\n",
    "start_agent_server(agent, host='0.0.0.0', port=5000, endpoint='/faq', ssl_key='my.key', ssl_cert='my.crt')"
   ]
  },
  {
   "cell_type": "markdown",
   "metadata": {},
   "source": [
    "Теперь в консоле Яндекс.Диалоги укажем web-hook `<MACHINE_IP_ADDRESS>:5000/faq` и во вкладке тестирование можем проверить нашего бота."
   ]
  },
  {
   "cell_type": "markdown",
   "metadata": {},
   "source": [
    "![title](img/dialog_example.png)"
   ]
  },
  {
   "cell_type": "markdown",
   "metadata": {},
   "source": [
    "# Заключение\n",
    "Итак, не более 10 содержательных строк потребовалось нам, чтобы запустить на Яндекс.Алиса бота с весьма полезным функционалом. Будем очень рады услышать ваш фидбек по DeepPavlov на нашей странице в [GitHub](https://github.com/deepmipt/DeepPavlov)."
   ]
  }
 ],
 "metadata": {
  "kernelspec": {
   "display_name": "Python 3",
   "language": "python",
   "name": "python3"
  },
  "language_info": {
   "codemirror_mode": {
    "name": "ipython",
    "version": 3
   },
   "file_extension": ".py",
   "mimetype": "text/x-python",
   "name": "python",
   "nbconvert_exporter": "python",
   "pygments_lexer": "ipython3",
   "version": "3.6.7"
  }
 },
 "nbformat": 4,
 "nbformat_minor": 2
}
